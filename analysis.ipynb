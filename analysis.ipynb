{
 "cells": [
  {
   "cell_type": "code",
   "execution_count": 1,
   "metadata": {},
   "outputs": [],
   "source": [
    "import pandas as pd \n",
    "import seaborn as sns "
   ]
  },
  {
   "cell_type": "code",
   "execution_count": 8,
   "metadata": {},
   "outputs": [
    {
     "name": "stdout",
     "output_type": "stream",
     "text": [
      "   User_ID Group  Impressions  Clicks    CTR  Conversions\n",
      "0        1     A         1000      50  0.050            1\n",
      "1        2     A          800      40  0.050            0\n",
      "2        3     A         1200      70  0.058            1\n",
      "3        4     B          900      30  0.033            0\n",
      "4        5     B         1100      45  0.041            1\n",
      "5        6     A         1300      75  0.057            1\n",
      "6        7     B          950      35  0.037            0\n",
      "7        8     A          700      38  0.054            0\n",
      "8        9     B         1050      50  0.048            1\n",
      "9       10     B         1150      60  0.052            1\n"
     ]
    }
   ],
   "source": [
    "df=pd.read_csv(\"ab_testing_dataset.csv\")\n",
    "print(df)"
   ]
  },
  {
   "cell_type": "code",
   "execution_count": 13,
   "metadata": {},
   "outputs": [
    {
     "name": "stdout",
     "output_type": "stream",
     "text": [
      "Group\n",
      "A    0.6\n",
      "B    0.6\n",
      "Name: Conversions, dtype: float64\n",
      "Group\n",
      "A    1.0\n",
      "B    1.0\n",
      "Name: Conversions, dtype: float64\n",
      "Group\n",
      "A    0.547723\n",
      "B    0.547723\n",
      "Name: Conversions, dtype: float64\n"
     ]
    }
   ],
   "source": [
    "# group by for each campaign \n",
    "grouped_data=df.groupby('Group')['Conversions'].mean()\n",
    "grouped_data_med=df.groupby('Group')['Conversions'].median()\n",
    "grouped_data_st=df.groupby('Group')['Conversions'].std()\n",
    "print(grouped_data)\n",
    "print(grouped_data_med)\n",
    "print(grouped_data_st)"
   ]
  }
 ],
 "metadata": {
  "kernelspec": {
   "display_name": "Python 3",
   "language": "python",
   "name": "python3"
  },
  "language_info": {
   "codemirror_mode": {
    "name": "ipython",
    "version": 3
   },
   "file_extension": ".py",
   "mimetype": "text/x-python",
   "name": "python",
   "nbconvert_exporter": "python",
   "pygments_lexer": "ipython3",
   "version": "3.12.6"
  }
 },
 "nbformat": 4,
 "nbformat_minor": 2
}
